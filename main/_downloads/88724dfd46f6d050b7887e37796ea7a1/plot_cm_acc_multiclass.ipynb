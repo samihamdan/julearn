{
  "cells": [
    {
      "cell_type": "code",
      "execution_count": null,
      "metadata": {
        "collapsed": false
      },
      "outputs": [],
      "source": [
        "%matplotlib inline"
      ]
    },
    {
      "cell_type": "markdown",
      "metadata": {},
      "source": [
        "\n# Multiclass Classification\n\nThis example uses the 'iris' dataset and performs multiclass\nclassification using a Support Vector Machine classifier and plots\nheatmaps for cross-validation accuracies and plots confusion matrix\nfor the test data.\n"
      ]
    },
    {
      "cell_type": "code",
      "execution_count": null,
      "metadata": {
        "collapsed": false
      },
      "outputs": [],
      "source": [
        "# Authors: Shammi More <s.more@fz-juelich.de>\n#          Federico Raimondo <f.raimondo@fz-juelich.de>\n#\n# License: AGPL\n\nimport pandas as pd\nimport seaborn as sns\nimport numpy as np\nimport matplotlib.pyplot as plt\nfrom seaborn import load_dataset\nfrom sklearn.model_selection import train_test_split\nfrom sklearn.metrics import confusion_matrix\n\nfrom julearn import run_cross_validation\nfrom julearn.utils import configure_logging"
      ]
    },
    {
      "cell_type": "markdown",
      "metadata": {},
      "source": [
        "Set the logging level to info to see extra information\n\n"
      ]
    },
    {
      "cell_type": "code",
      "execution_count": null,
      "metadata": {
        "collapsed": false
      },
      "outputs": [],
      "source": [
        "configure_logging(level='INFO')\n\ndf_iris = load_dataset('iris')\nX = ['sepal_length', 'sepal_width', 'petal_length']\ny = 'species'"
      ]
    },
    {
      "cell_type": "markdown",
      "metadata": {},
      "source": [
        "Split the dataset into train and test\n\n"
      ]
    },
    {
      "cell_type": "code",
      "execution_count": null,
      "metadata": {
        "collapsed": false
      },
      "outputs": [],
      "source": [
        "train_iris, test_iris = train_test_split(df_iris, test_size=0.2,\n                                         stratify=df_iris[y])"
      ]
    },
    {
      "cell_type": "markdown",
      "metadata": {},
      "source": [
        "Perform multiclass classification as iris dataset contains 3 kinds of species\n\n"
      ]
    },
    {
      "cell_type": "code",
      "execution_count": null,
      "metadata": {
        "collapsed": false
      },
      "outputs": [],
      "source": [
        "scores, model_iris = run_cross_validation(\n    X=X, y=y, data=train_iris, model='svm', preprocess_X='zscore',\n    problem_type='multiclass_classification', scoring=['accuracy'],\n    return_estimator='final')"
      ]
    },
    {
      "cell_type": "markdown",
      "metadata": {},
      "source": [
        "The scores dataframe has all the values for each CV split.\n\n"
      ]
    },
    {
      "cell_type": "code",
      "execution_count": null,
      "metadata": {
        "collapsed": false
      },
      "outputs": [],
      "source": [
        "print(scores.head())"
      ]
    },
    {
      "cell_type": "markdown",
      "metadata": {},
      "source": [
        "Now we can get the accuracy per fold and repetition:\n\n"
      ]
    },
    {
      "cell_type": "code",
      "execution_count": null,
      "metadata": {
        "collapsed": false
      },
      "outputs": [],
      "source": [
        "df_accuracy = scores.set_index(\n    ['repeat', 'fold'])['test_accuracy'].unstack()\ndf_accuracy.index.name = 'Repeats'\ndf_accuracy.columns.name = 'K-fold splits'\nprint(df_accuracy)"
      ]
    },
    {
      "cell_type": "markdown",
      "metadata": {},
      "source": [
        "Plot heatmap of accuracy over all repeats and CV splits\n\n"
      ]
    },
    {
      "cell_type": "code",
      "execution_count": null,
      "metadata": {
        "collapsed": false
      },
      "outputs": [],
      "source": [
        "sns.set(font_scale=1.2)\nfig, ax = plt.subplots(1, 1, figsize=(10, 7))\nsns.heatmap(df_accuracy, cmap=\"YlGnBu\")\nplt.title('Cross-validation Accuracy')"
      ]
    },
    {
      "cell_type": "markdown",
      "metadata": {},
      "source": [
        "We can also test our final model's accuracy and plot the confusion matrix\nfor the test data as an annotated heatmap\n\n"
      ]
    },
    {
      "cell_type": "code",
      "execution_count": null,
      "metadata": {
        "collapsed": false
      },
      "outputs": [],
      "source": [
        "y_true = test_iris[y]\ny_pred = model_iris.predict(test_iris[X])\ncm = confusion_matrix(y_true, y_pred, labels=np.unique(y_true))\n\nprint(cm)"
      ]
    },
    {
      "cell_type": "markdown",
      "metadata": {},
      "source": [
        "Now that we have our confusion matrix, let's build another matrix with\nannotations.\n\n"
      ]
    },
    {
      "cell_type": "code",
      "execution_count": null,
      "metadata": {
        "collapsed": false
      },
      "outputs": [],
      "source": [
        "cm_sum = np.sum(cm, axis=1, keepdims=True)\ncm_perc = cm / cm_sum.astype(float) * 100\nannot = np.empty_like(cm).astype(str)\nnrows, ncols = cm.shape\nfor i in range(nrows):\n    for j in range(ncols):\n        c = cm[i, j]\n        p = cm_perc[i, j]\n        if c == 0:\n            annot[i, j] = ''\n        else:\n            s = cm_sum[i]\n            annot[i, j] = '%.1f%%\\n%d/%d' % (p, c, s)"
      ]
    },
    {
      "cell_type": "markdown",
      "metadata": {},
      "source": [
        "Finally we create another dataframe with the confusion matrix and plot\nthe heatmap with annotations.\n\n"
      ]
    },
    {
      "cell_type": "code",
      "execution_count": null,
      "metadata": {
        "collapsed": false
      },
      "outputs": [],
      "source": [
        "cm = pd.DataFrame(cm, index=np.unique(y_true), columns=np.unique(y_true))\ncm.index.name = 'Actual'\ncm.columns.name = 'Predicted'\nfig, ax = plt.subplots(1, 1, figsize=(10, 7))\nsns.heatmap(cm, cmap=\"YlGnBu\", annot=annot, fmt='', ax=ax)\nplt.title('Confusion matrix')"
      ]
    }
  ],
  "metadata": {
    "kernelspec": {
      "display_name": "Python 3",
      "language": "python",
      "name": "python3"
    },
    "language_info": {
      "codemirror_mode": {
        "name": "ipython",
        "version": 3
      },
      "file_extension": ".py",
      "mimetype": "text/x-python",
      "name": "python",
      "nbconvert_exporter": "python",
      "pygments_lexer": "ipython3",
      "version": "3.8.7"
    }
  },
  "nbformat": 4,
  "nbformat_minor": 0
}