{
  "cells": [
    {
      "cell_type": "code",
      "execution_count": null,
      "metadata": {
        "collapsed": false
      },
      "outputs": [],
      "source": [
        "%matplotlib inline"
      ]
    },
    {
      "cell_type": "markdown",
      "metadata": {},
      "source": [
        "\n# Tuning Hyperparameters\n\nThis example uses the 'fmri' dataset, performs simple binary classification\nusing a Support Vector Machine classifier and analyse the model.\n\n\n## References\nWaskom, M.L., Frank, M.C., Wagner, A.D. (2016). Adaptive engagement of\ncognitive control in context-dependent decision-making. Cerebral Cortex.\n\n\n.. include:: ../../links.inc\n"
      ]
    },
    {
      "cell_type": "code",
      "execution_count": null,
      "metadata": {
        "collapsed": false
      },
      "outputs": [],
      "source": [
        "# Authors: Federico Raimondo <f.raimondo@fz-juelich.de>\n#\n# License: AGPL\nimport numpy as np\nfrom seaborn import load_dataset\n\nfrom julearn import run_cross_validation\nfrom julearn.utils import configure_logging"
      ]
    },
    {
      "cell_type": "markdown",
      "metadata": {},
      "source": [
        "Set the logging level to info to see extra information\n\n"
      ]
    },
    {
      "cell_type": "code",
      "execution_count": null,
      "metadata": {
        "collapsed": false
      },
      "outputs": [],
      "source": [
        "configure_logging(level='INFO')"
      ]
    },
    {
      "cell_type": "markdown",
      "metadata": {},
      "source": [
        "Set the random seed to always have the same example\n\n"
      ]
    },
    {
      "cell_type": "code",
      "execution_count": null,
      "metadata": {
        "collapsed": false
      },
      "outputs": [],
      "source": [
        "np.random.seed(42)"
      ]
    },
    {
      "cell_type": "markdown",
      "metadata": {},
      "source": [
        "Load the dataset\n\n"
      ]
    },
    {
      "cell_type": "code",
      "execution_count": null,
      "metadata": {
        "collapsed": false
      },
      "outputs": [],
      "source": [
        "df_fmri = load_dataset('fmri')\nprint(df_fmri.head())"
      ]
    },
    {
      "cell_type": "markdown",
      "metadata": {},
      "source": [
        "Set the dataframe in the right format\n\n"
      ]
    },
    {
      "cell_type": "code",
      "execution_count": null,
      "metadata": {
        "collapsed": false
      },
      "outputs": [],
      "source": [
        "df_fmri = df_fmri.pivot(\n    index=['subject', 'timepoint', 'event'],\n    columns='region',\n    values='signal')\n\ndf_fmri = df_fmri.reset_index()\nprint(df_fmri.head())"
      ]
    },
    {
      "cell_type": "markdown",
      "metadata": {},
      "source": [
        "Lets do a first attempt and use a linear SVM with the default parameters.\n\n"
      ]
    },
    {
      "cell_type": "code",
      "execution_count": null,
      "metadata": {
        "collapsed": false
      },
      "outputs": [],
      "source": [
        "model_params = {'svm__kernel': 'linear'}\nX = ['frontal', 'parietal']\ny = 'event'\nscores = run_cross_validation(\n    X=X, y=y, data=df_fmri, model='svm', preprocess_X='zscore',\n    model_params=model_params)\n\nprint(scores['test_score'].mean())"
      ]
    },
    {
      "cell_type": "markdown",
      "metadata": {},
      "source": [
        "The score is not so good. Lets try to see if there is an optimal\nregularization parameter (C) for the linear SVM.\n\n"
      ]
    },
    {
      "cell_type": "code",
      "execution_count": null,
      "metadata": {
        "collapsed": false
      },
      "outputs": [],
      "source": [
        "model_params = {\n    'svm__kernel': 'linear',\n    'svm__C': [0.01, 0.1],\n    'cv': 2}  # CV=2 too speed up the example\nX = ['frontal', 'parietal']\ny = 'event'\nscores, estimator = run_cross_validation(\n    X=X, y=y, data=df_fmri, model='svm', preprocess_X='zscore',\n    model_params=model_params, return_estimator='final')\n\nprint(scores['test_score'].mean())"
      ]
    },
    {
      "cell_type": "markdown",
      "metadata": {},
      "source": [
        "This did not change much, lets explore other kernels too.\n\n"
      ]
    },
    {
      "cell_type": "code",
      "execution_count": null,
      "metadata": {
        "collapsed": false
      },
      "outputs": [],
      "source": [
        "model_params = {\n    'svm__kernel': ['linear', 'rbf', 'poly'],\n    'svm__C': [0.01, 0.1],\n    'cv': 2}  # CV=2 too speed up the example\nX = ['frontal', 'parietal']\ny = 'event'\nscores, estimator = run_cross_validation(\n    X=X, y=y, data=df_fmri, model='svm', preprocess_X='zscore',\n    model_params=model_params, return_estimator='final')\n\nprint(scores['test_score'].mean())"
      ]
    },
    {
      "cell_type": "markdown",
      "metadata": {},
      "source": [
        "It seems that we might have found a better model, but which one is it?\n\n"
      ]
    },
    {
      "cell_type": "code",
      "execution_count": null,
      "metadata": {
        "collapsed": false
      },
      "outputs": [],
      "source": [
        "print(estimator.best_params_)"
      ]
    },
    {
      "cell_type": "markdown",
      "metadata": {},
      "source": [
        "Now that we know that a RBF kernel is better, lest test different *gamma*\nparameters.\n\n"
      ]
    },
    {
      "cell_type": "code",
      "execution_count": null,
      "metadata": {
        "collapsed": false
      },
      "outputs": [],
      "source": [
        "model_params = {\n    'svm__kernel': 'rbf',\n    'svm__C': [0.01, 0.1],\n    'svm__gamma': [1e-2, 1e-3],\n    'cv': 2}  # CV=2 too speed up the example\nX = ['frontal', 'parietal']\ny = 'event'\nscores, estimator = run_cross_validation(\n    X=X, y=y, data=df_fmri, model='svm', preprocess_X='zscore',\n    model_params=model_params, return_estimator='final')\n\nprint(scores['test_score'].mean())\nprint(estimator.best_params_)"
      ]
    },
    {
      "cell_type": "markdown",
      "metadata": {},
      "source": [
        "It seems that without tuning the gamma parameter we had a better accuracy.\nLet's add the default value and see what happens.\n\n"
      ]
    },
    {
      "cell_type": "code",
      "execution_count": null,
      "metadata": {
        "collapsed": false
      },
      "outputs": [],
      "source": [
        "model_params = {\n    'svm__kernel': 'rbf',\n    'svm__C': [0.01, 0.1],\n    'svm__gamma': [1e-2, 1e-3, 'scale'],\n    'cv': 2}  # CV=2 too speed up the example\nX = ['frontal', 'parietal']\ny = 'event'\nscores, estimator = run_cross_validation(\n    X=X, y=y, data=df_fmri, model='svm', preprocess_X='zscore',\n    model_params=model_params, return_estimator='final')\n\nprint(scores['test_score'].mean())\nprint(estimator.best_params_)"
      ]
    },
    {
      "cell_type": "markdown",
      "metadata": {},
      "source": [
        "So what was the best ``gamma`` in the end?\n\n"
      ]
    },
    {
      "cell_type": "code",
      "execution_count": null,
      "metadata": {
        "collapsed": false
      },
      "outputs": [],
      "source": [
        "print(estimator.best_estimator_['svm']._gamma)"
      ]
    }
  ],
  "metadata": {
    "kernelspec": {
      "display_name": "Python 3",
      "language": "python",
      "name": "python3"
    },
    "language_info": {
      "codemirror_mode": {
        "name": "ipython",
        "version": 3
      },
      "file_extension": ".py",
      "mimetype": "text/x-python",
      "name": "python",
      "nbconvert_exporter": "python",
      "pygments_lexer": "ipython3",
      "version": "3.8.7"
    }
  },
  "nbformat": 4,
  "nbformat_minor": 0
}