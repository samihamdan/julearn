{
  "cells": [
    {
      "cell_type": "code",
      "execution_count": null,
      "metadata": {
        "collapsed": false
      },
      "outputs": [],
      "source": [
        "%matplotlib inline"
      ]
    },
    {
      "cell_type": "markdown",
      "metadata": {},
      "source": [
        "\n# Return Confounds in Confound Removal\n\nIn most cases confound removal is a simple operation.\nYou regress out the confound from the features and only continue working with\nthese new confound removed features. This is also the default setting for\njulearn's `remove_confound` step. But sometimes you want to work with the\nconfound even after removing it from the features. In this example, we\nwill discuss the options you have.\n\n.. include:: ../../links.inc\n"
      ]
    },
    {
      "cell_type": "code",
      "execution_count": null,
      "metadata": {
        "collapsed": false
      },
      "outputs": [],
      "source": [
        "# Authors: Sami Hamdan <s.hamdan@fz-juelich.de>\n#\n# License: AGPL\nfrom sklearn.datasets import load_diabetes  # to load data\nfrom julearn.transformers import ChangeColumnTypes\nfrom julearn import run_cross_validation\n\n\n# load in the data\ndf_features, target = load_diabetes(return_X_y=True, as_frame=True)"
      ]
    },
    {
      "cell_type": "markdown",
      "metadata": {},
      "source": [
        "First, we can have a look at our features.\nYou can see it includes\nAge, BMI, average blood pressure (bp) and 6 other measures from s1 to s6\nFurthermore, it includes sex which will be considered as a confound in\nthis example.\n\n\n"
      ]
    },
    {
      "cell_type": "code",
      "execution_count": null,
      "metadata": {
        "collapsed": false
      },
      "outputs": [],
      "source": [
        "print('Features: ', df_features.head())"
      ]
    },
    {
      "cell_type": "markdown",
      "metadata": {},
      "source": [
        "Second, we can have a look at the target\n\n"
      ]
    },
    {
      "cell_type": "code",
      "execution_count": null,
      "metadata": {
        "collapsed": false
      },
      "outputs": [],
      "source": [
        "print('Target: ', target.describe())"
      ]
    },
    {
      "cell_type": "markdown",
      "metadata": {},
      "source": [
        "Now, we can put both into one DataFrame:\n\n"
      ]
    },
    {
      "cell_type": "code",
      "execution_count": null,
      "metadata": {
        "collapsed": false
      },
      "outputs": [],
      "source": [
        "data = df_features.copy()\ndata['target'] = target"
      ]
    },
    {
      "cell_type": "markdown",
      "metadata": {},
      "source": [
        "In the following we will explore different settings of confound removal\nusing Julearns pipeline functionalities.\n\n## Confound Removal Typical Use Case\nHere, we want to deconfound the features and not include the confound as a\nfeature into our last model.\nAfterwards, we will transform our features with a pca and run\na linear regression.\n\n\n"
      ]
    },
    {
      "cell_type": "code",
      "execution_count": null,
      "metadata": {
        "collapsed": false
      },
      "outputs": [],
      "source": [
        "feature_names = list(df_features.drop(columns='sex').columns)\nscores, model = run_cross_validation(\n    X=feature_names, y='target', data=data,\n    confounds='sex', model='linreg', problem_type='regression',\n    preprocess_X=['remove_confound', 'pca'],\n    return_estimator='final')"
      ]
    },
    {
      "cell_type": "markdown",
      "metadata": {},
      "source": [
        "We can use the `preprocess` method of the `.ExtendedDataFramePipeline`\nto inspect the transformations/preprocessing steps of the returned estimator.\nBy providing a step name to the `until` argument of the\n`preprocess` method we return the transformed X and y up to\nthe provided step (inclusive).\nThis output consists of a tuple containing the transformed X and y,\n\n"
      ]
    },
    {
      "cell_type": "code",
      "execution_count": null,
      "metadata": {
        "collapsed": false
      },
      "outputs": [],
      "source": [
        "X_deconfounded, _ = model.preprocess(\n    df_features, target, until='remove_confound')\nprint(X_deconfounded.head())\n\n# As you can see the confound `sex` was dropped\n# and only the confound removed features are used in the following pca.\n# But what if you want to keep the confound after removal for\n# other transformations.\n#\n# For example, let's assume that you want to do a pca on the confound removed\n# feature, but want to keep the confound for the actual modelling step.\n# Let us have a closer look to the confound remover in order to understand\n# how we could achieve such a task:\n#\n# .. autoclass:: julearn.transformers.DataFrameConfoundRemover"
      ]
    },
    {
      "cell_type": "markdown",
      "metadata": {},
      "source": [
        "Above, you can see that we can set the `keep_confounds` argument to True.\nThis will keep the confounds after confound removal.\nHere, is an example of how this can look like:\n\n"
      ]
    },
    {
      "cell_type": "code",
      "execution_count": null,
      "metadata": {
        "collapsed": false
      },
      "outputs": [],
      "source": [
        "scores, model = run_cross_validation(\n    X=feature_names, y='target', data=data,\n    confounds='sex', model='linreg', problem_type='regression',\n    preprocess_X=['remove_confound', 'pca'],\n    model_params=dict(remove_confound__keep_confounds=True),\n    return_estimator='final')"
      ]
    },
    {
      "cell_type": "markdown",
      "metadata": {},
      "source": [
        "As you can see this will keep the confound\n\n"
      ]
    },
    {
      "cell_type": "code",
      "execution_count": null,
      "metadata": {
        "collapsed": false
      },
      "outputs": [],
      "source": [
        "X_deconfounded, _ = model.preprocess(\n    df_features, target, until='remove_confound')\nprint(X_deconfounded.head())"
      ]
    },
    {
      "cell_type": "markdown",
      "metadata": {},
      "source": [
        "Even after the pca the confound will still be present.\nThis is the case because by default transformers only transform continuous\nfeatures (including features without a specified type)\nand ignore confounds and categorical variables.\n\n"
      ]
    },
    {
      "cell_type": "code",
      "execution_count": null,
      "metadata": {
        "collapsed": false
      },
      "outputs": [],
      "source": [
        "X_transformed, _ = model.preprocess(df_features, target)\nprint(X_transformed.head())\n\n# This means that the resulting Linear Regression will use the deconfounded\n# features together with the confound to predict the target."
      ]
    },
    {
      "cell_type": "markdown",
      "metadata": {},
      "source": [
        "Lastly, you can also use the confound as a normal feature after confound\nremoval. To do so you can either add the confound(s) to the\nwhich return the same columns or you can use the\n`.ChangeColumnTypes` to change the returned confounds\nto a continuous variable like this:\n\n"
      ]
    },
    {
      "cell_type": "code",
      "execution_count": null,
      "metadata": {
        "collapsed": false
      },
      "outputs": [],
      "source": [
        "scores, model = run_cross_validation(\n    X=feature_names, y='target', data=data,\n    confounds='sex', model='linreg', problem_type='regression',\n    preprocess_X=['remove_confound',\n                  ChangeColumnTypes('.*confound', 'continuous'),\n                  'pca'],\n    preprocess_confounds='zscore',\n    model_params=dict(remove_confound__keep_confounds=True),\n    return_estimator='final'\n)"
      ]
    },
    {
      "cell_type": "markdown",
      "metadata": {},
      "source": [
        "As you can see this will keep the confound and\nchange its type to a continuous variable.\n\n"
      ]
    },
    {
      "cell_type": "code",
      "execution_count": null,
      "metadata": {
        "collapsed": false
      },
      "outputs": [],
      "source": [
        "X_deconfounded, _ = model.preprocess(\n    df_features, target, until='changecolumntypes',\n    return_trans_column_type=True)\nprint(X_deconfounded.head())"
      ]
    },
    {
      "cell_type": "markdown",
      "metadata": {},
      "source": [
        "Because the confound is treated as a normal continuous feature\nafter removal it will be transformed in the pca as well\n\n"
      ]
    },
    {
      "cell_type": "code",
      "execution_count": null,
      "metadata": {
        "collapsed": false
      },
      "outputs": [],
      "source": [
        "X_transformed, _ = model.preprocess(df_features, target)\nprint(X_transformed.head())"
      ]
    }
  ],
  "metadata": {
    "kernelspec": {
      "display_name": "Python 3",
      "language": "python",
      "name": "python3"
    },
    "language_info": {
      "codemirror_mode": {
        "name": "ipython",
        "version": 3
      },
      "file_extension": ".py",
      "mimetype": "text/x-python",
      "name": "python",
      "nbconvert_exporter": "python",
      "pygments_lexer": "ipython3",
      "version": "3.8.7"
    }
  },
  "nbformat": 4,
  "nbformat_minor": 0
}